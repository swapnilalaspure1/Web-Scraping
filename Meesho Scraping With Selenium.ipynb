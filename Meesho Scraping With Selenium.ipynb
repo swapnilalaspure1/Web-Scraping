{
 "cells": [
  {
   "cell_type": "code",
   "execution_count": 1,
   "id": "3cb0e463",
   "metadata": {},
   "outputs": [
    {
     "name": "stdout",
     "output_type": "stream",
     "text": [
      "<Response [403]>\n"
     ]
    }
   ],
   "source": [
    "# Importing Library\n",
    "import pandas as pd\n",
    "import requests\n",
    "from bs4 import BeautifulSoup\n",
    "\n",
    "# Define the base URL\n",
    "base_url = \"https://www.meesho.com/search?q=watch&searchType=POPULAR_SEARCHES&searchIdentifier=text_search\"\n",
    "\n",
    "# Define headers as a dictionary\n",
    "headers = {\n",
    "    'User-Agent': 'Mozilla/5.0 (Windows NT 10.0; Win64; x64) AppleWebKit/537.36 (KHTML, like Gecko) Chrome/119.0.0.0 Safari/537.36 Edg/119.0.0.0'\n",
    "}\n",
    "\n",
    "# Send a GET request to the base URL with headers\n",
    "webpage = requests.get(base_url, headers=headers)\n",
    "\n",
    "# Check the response of the GET request\n",
    "print(webpage)"
   ]
  },
  {
   "cell_type": "code",
   "execution_count": 2,
   "id": "6d7c5965",
   "metadata": {
    "scrolled": true
   },
   "outputs": [
    {
     "data": {
      "text/plain": [
       "<!DOCTYPE html>\n",
       "<html lang=\"en-US\"><head><title>Just a moment...</title><meta content=\"text/html; charset=utf-8\" http-equiv=\"Content-Type\"/><meta content=\"IE=Edge\" http-equiv=\"X-UA-Compatible\"/><meta content=\"noindex,nofollow\" name=\"robots\"/><meta content=\"width=device-width,initial-scale=1\" name=\"viewport\"/><link href=\"/cdn-cgi/styles/challenges.css\" rel=\"stylesheet\"/><meta content=\"375\" http-equiv=\"refresh\"/></head><body class=\"no-js\"><div class=\"main-wrapper\" role=\"main\"><div class=\"main-content\"><noscript><div id=\"challenge-error-title\"><div class=\"h2\"><span class=\"icon-wrapper\"><div class=\"heading-icon warning-icon\"></div></span><span id=\"challenge-error-text\">Enable JavaScript and cookies to continue</span></div></div></noscript></div></div><script>(function(){window._cf_chl_opt={cvId: '2',cZone: \"www.meesho.com\",cType: 'managed',cNounce: '67352',cRay: '8245dcac5806f367',cHash: '96f2f85e3f32c43',cUPMDTk: \"\\/search?q=watch&searchType=POPULAR_SEARCHES&searchIdentifier=text_search&__cf_chl_tk=lZDaPlUsLCVboFS4dxmhhUGpdCCdi94_..x4oP4ano0-1699698649-0-gaNycGzNC-U\",cFPWv: 'g',cTTimeMs: '1000',cMTimeMs: '375000',cTplV: 5,cTplB: 'cf',cK: \"visitor-time\",fa: \"\\/search?q=watch&searchType=POPULAR_SEARCHES&searchIdentifier=text_search&__cf_chl_f_tk=lZDaPlUsLCVboFS4dxmhhUGpdCCdi94_..x4oP4ano0-1699698649-0-gaNycGzNC-U\",md: \"Gc6PTenKfCh1AOODOSHF5U51xLGqc8c1EQOfiF8nLbw-1699698649-0-ATGFQinqnU30cAq_k1t8d3n-WgzBvuqt1N0iTyvGnmKwxhTXjKsYeEOf-Db95XebCpy0gbFWzUrj7zNtixJTKUTBaD3xWbtaP794ZVwEEqIcMoO9qjgUjESMQo37ets2iaB-6PTB9sGqRvlIFqxrn2itik5s9gA6fj6rfJ8hTSBrScXu18umZkkBrrtPGeLtiAcejKMf4uKEsG6HADfYqtxTxup436xp2BJzBtDxyx8BxPpZtZeNaZByjkjGaxRNaaJ3gF-eHUdBWgMAz30QZZQgDimnyGFY702wTz37VCNUB5qWtkYMuhajYRa9AnQq8RiMbHXe5eMiHvGy7u3Q71kMuGpxeibt4cuJl3YBGF6iw2Q6mBDjG1qglLnYsHWS6QaaVDG7dsY_c9ajl__YpEydkHjVcwSlfN4ag1xUvYYHUPPDt9_XB3GBMM_vCH3XW14AO8CIAEJs44jc3zTujmzAugBgjwZxyiOJFZKs_O9O8zTxUhJH3uZn1v4Uqan5m03gTe6FrN8eUSn9kbHeAvqoP-CvSAceVIztsQv6KLksf0t_nIt9A6ERwfbrT__8q3--0Yp9YKtsQ1a9luf1E-vYXp82UkcmGnlq1TslkETUzEcUcGPFD8qHC0BtzJSJHznjJ0zhn5WOzIhMBUH7_gHKZcSteHF40VUli6yLFP8hgJD4mekKKGKEYj8SBUo9p8VIknRHznrYrDqweVFMDTJCaQesgsw3GngMnROudO9qEpRtygWasMszEawtmzCxj0G0ZdvMn1rDCJyctjbnGnsnlzS8awy8eZGI8izgFRuwl0qZ7zXb26GJFOaaHCRVCuvCmVDEsRSfuQfNo95_zyqJi5t94L0fHrvSKNfqNe8ATy5UfluhlZ28d94vsTD1r79te27pkPY2_BB2Q2VsuSYTJnwmpdV4Fy1XKCtPC5SiCeOMgBKextOE2VQtfL49sEPxr4bxUPr3Psrb2JT4e2nGorg6xB3KDtPS35nnthqqvEOlebmR9cnE-8HYFAWK4IO63SoCEcZL1IKcIbQFGqeBR3EAwkxJrJnfIOp-pYJQgzrpct61BNB24sR6aUQ4RIh2Xgaprqh3cQQSDYuJj-IfgpWKUejOsr9ImvuFA_PBO5mPXOnEqWLpdJafu0nlG9Zr4j8JVpO8S_1i_IvxrUHBGK0y4Xjg6XolOMIz7Q1wW63au3tzKLd1eiieEtOxsgqFJlxNP1gtfgIHcsVCsYsCv-g_x01pLhsZVc7iVAwYUU_bQ95hzogFjeBUOEWxx21ZbBqWEkB8wDQISySTw1x-bLBQLG6rO9ohpnjy8FWkhsIG24LKy4bPIGQcZritC4f3cY0I_MzRlCQHwmmhRppWKdD3FE-ra3Tznj7y4CUku6lGJaWJN6GMQh0GJxZQMJ3uZtWMxyqtgt0ndWRkIF3ibhV9HvyBPnZltGIV_JxSHw1NKp7JI8Sa4fHsFuPvV-ihLzVklzQKBr6o4q5xHFZ9rO3UfMPKVvIMTXBcEWdoqUJHG4QWpBbXiXffgDq-Tj5DR10xuVn6_GWU-AoRkogt6CQRwb8iWhdmHCEOZqtx7ANtVuEKwMIp9LSh_qnJnmoE1NVpQAAs0aNARprVDv8FS6WE6KVlr4BAOlJWWosjbiAmIPejTdkaEJi8e-2qgRs6xE1TkjTG0xlyeIjQmRIGgP0HmngjT2r-tbabNbh4axJp-E4bLOs97nmyvLdUTXkbCBvep55ysvJTlrvdSaEyUCGzGJLpre43yK5fa0IeYTP5Ge1htmBtVyha4eRwbKZ--UBuX_6qt6nEuq-Px413lsoh5rECHy_A-yoeVvQ92ZpqpSmCMCsiFtmhyEvjTDyBaErZSa1_-3JPCTSfxzGIMADUTrrdSP-K_mW9J-ToKKBDUQ5QRUB8Ho8QsuhFbYNdZ_ZBDoKmxgJcHEODvSzI3x-sWLvDU2iXM29xVv-ZCX8lRdJuCPi8XbeGtiMX5E-XWcj5v1-Mqgnabvz872acueNwXOG3T-OGP9k05F4gKDiPODzRXZqc5-lFGwXTpfBYdxEd9j3wAwLOydGuI0kbQbP_RQptt4XQLMMXO6edpPQV9SADvJfIGhL3YRTsij-PfFWF6jS09q86cbJoPZnMFzHiVVhUh1AJj0YkrKEfFXxvZT6g-_k94rCBL6u_nas4OWc7mKrXyaC72A1ZNIUjrz27iwa2msC_LNVrhQmsc3IeOOmzmrJt5HUGUBxfT8a7LCQS3L2cLZjhByOFo20BF5vNzt-suh5b_YO6XU7M8k2I3isbTrD7C7sTlEso7vBjSpdwzy-MMJ4yMJL9y_Ovlng6yJZm-WkC_7vHJTfZh_WP0Q_s6M6uXyUus0XJDV18Ld3hnMSgV_sOA_3N1c4Z8Kj4AaSt9DUG08__7GAx3vT6dq2lDNGsWF_nVT0tjMg3Ip608Ouhle_quY6WlGJxuqiMmNCSA8NsohheMSc2zjtlXsPwX8brJa_Q2c45gbuoUAAu8PGT4IB3N6fTYJkVDALt5JNh5PyBZFrAc9jEdN5cqva9BXXOHYGd1vENZkvatAyt1sgv4v8MmD1HbPxTv5NuCXz0Ps8MfHB6LCr9CeBbjiGOz5xjNdKxVp0rF2U2ZRvWh4bIbFx-PfOmD0BBixX7k99Zaf-Ob-uvJsMyEjBM8psb-qOMl1qjeEUqXen6LtB7EzBH1BXLuPqOOHrP6pZyeqxsBwGy9_lHqQ2_r5AkYkbPtKC_5ZrfpCKaLKmCfiv6dvAIya5bKmmWAAcLRd017MHGDmkXtPCmF923nv7lkcYFbDHCl0Rsk5R_Ci5AC5EovOEKK5debZsso5UmlUovOIIZR_QBWAXdo7fJ8dTgtVmzE99p5SJhKQ5OqwZArOzxEjG9LOBCVS5l7dF4zthIHw6WfV3xk1_whpBUl9M8C695gPKns0KAdWAkZtYM4mx-7tBooco4pjw8oXLDarVtc-essYKYjr1JJ9Zd\",cRq: {ru: 'aHR0cHM6Ly93d3cubWVlc2hvLmNvbS9zZWFyY2g/cT13YXRjaCZzZWFyY2hUeXBlPVBPUFVMQVJfU0VBUkNIRVMmc2VhcmNoSWRlbnRpZmllcj10ZXh0X3NlYXJjaA==',ra: 'TW96aWxsYS81LjAgKFdpbmRvd3MgTlQgMTAuMDsgV2luNjQ7IHg2NCkgQXBwbGVXZWJLaXQvNTM3LjM2IChLSFRNTCwgbGlrZSBHZWNrbykgQ2hyb21lLzExOS4wLjAuMCBTYWZhcmkvNTM3LjM2IEVkZy8xMTkuMC4wLjA=',rm: 'R0VU',d: 'RoTW68t7Zez/tcaUof5BsBOFJUUFzPjd8fJccCd3s0ZF7CIO/D2y/M2R2b5jHYBPAYILM4RewTuqQTilO4Ois2Y9VGS053AYSo08+dgz3UzorydFyxE3OaZyiIyz7MbJpvxurgY0nKxqXIATuT6iOwPh+erOyhAxTMPzwI0FwkIQ+2/JUh90nfdSIIT/W+AzB9YqEY1cZE/3LvSbVESsmsEALfP5h+C63HVyofuRdct4Yd/KzEhEjefapeUt9Wlady7pzAb7v+VuaSZdrqudG/LQhAgjvMlFY7lM9PWANF0J+8Mc1tIdy/aQwTzGZ3VLQQJ9CrnwpjeQGXBpQaA5KV/lbuEZMuO94foecpIIc3d8MG9qZ8QtY8PzgjFzooiFag3q5EzADIxjhjULnwUOxAHDAsR7UI4tn6fupdP75qOBu7VOwICtwEdKveo1V4tDTvkttW/XTBUzgI+X7aVG/lwxe38jdamE+i6DiJcLY7YMWxQ1tD916nU4dJnDVlUNk37+oJNewbuqhpCFC1+zBOQQn1FIMME8YtPPeD+otnuSRjDMBn5U2dGQDf2jOquMLPSdmxP1mRtkNFjEpp/VbA==',t: 'MTY5OTY5ODY0OS4wMjUwMDA=',cT: Math.floor(Date.now() / 1000),m: '6dtU3bSXhkcOJudOudgDPr/9Cv7nhjzHcJMsjbGDusc=',i1: 'czgj0nUu+AWQxs6a1T1ZCQ==',i2: '12T6E5dVPEGQQO1NCkOsLw==',zh: 'y5LBRIapGkKMzhZ0bNjgJ7LdoioTUlggZfkgnNU3ihc=',uh: '7sslgF4TZgtx6NuXZ4CYPLSM9iX24YCu1qAPZpcMOH0=',hh: '7PxFw2PDF7g7I15E41bLcZDq9st2lF+rhTuq2nNy5wY=',}};var cpo = document.createElement('script');cpo.src = '/cdn-cgi/challenge-platform/h/g/orchestrate/chl_page/v1?ray=8245dcac5806f367';window._cf_chl_opt.cOgUHash = location.hash === '' && location.href.indexOf('#') !== -1 ? '#' : location.hash;window._cf_chl_opt.cOgUQuery = location.search === '' && location.href.slice(0, location.href.length - window._cf_chl_opt.cOgUHash.length).indexOf('?') !== -1 ? '?' : location.search;if (window.history && window.history.replaceState) {var ogU = location.pathname + window._cf_chl_opt.cOgUQuery + window._cf_chl_opt.cOgUHash;history.replaceState(null, null, \"\\/search?q=watch&searchType=POPULAR_SEARCHES&searchIdentifier=text_search&__cf_chl_rt_tk=lZDaPlUsLCVboFS4dxmhhUGpdCCdi94_..x4oP4ano0-1699698649-0-gaNycGzNC-U\" + window._cf_chl_opt.cOgUHash);cpo.onload = function() {history.replaceState(null, null, ogU);}}document.getElementsByTagName('head')[0].appendChild(cpo);}());</script></body></html>"
      ]
     },
     "execution_count": 2,
     "metadata": {},
     "output_type": "execute_result"
    }
   ],
   "source": [
    "# Create a BeautifulSoup object to parse the HTML content\n",
    "soup = BeautifulSoup(webpage.text, \"lxml\")\n",
    "soup"
   ]
  },
  {
   "cell_type": "code",
   "execution_count": 3,
   "id": "bb515a77",
   "metadata": {},
   "outputs": [
    {
     "data": {
      "text/plain": [
       "[]"
      ]
     },
     "execution_count": 3,
     "metadata": {},
     "output_type": "execute_result"
    }
   ],
   "source": [
    "# Find all product containers with the specified class\n",
    "product_containers = soup.find_all(\"div\", class_=\"sc-bcXHqe iuOPas NewProductCardstyled__StyledDetailsCard-sc-6y2tys-1 NewProductCardstyled__StyledDesktopDetailsCard-sc-6y2tys-3 jvYVXh eSUhOk NewProductCardstyled__StyledDetailsCard-sc-6y2tys-1 NewProductCardstyled__StyledDesktopDetailsCard-sc-6y2tys-3 jvYVXh eSUhOk\")\n",
    "product_containers"
   ]
  },
  {
   "cell_type": "markdown",
   "id": "f69f2a97",
   "metadata": {},
   "source": [
    "\n",
    "\n",
    "### The Meesho website is completely built on Java, so the Beautiful Soup library does not going work here.\n",
    "     That is why, I am going to use the selenium library.\n",
    "     "
   ]
  },
  {
   "cell_type": "code",
   "execution_count": 4,
   "id": "4cb71091",
   "metadata": {},
   "outputs": [],
   "source": [
    "# Important library for automation srcapping\n",
    "import scrapy\n",
    "import selenium\n",
    "from selenium import webdriver\n",
    "from selenium.webdriver.common.by import By\n",
    "import time"
   ]
  },
  {
   "cell_type": "code",
   "execution_count": 5,
   "id": "9e70e8c0",
   "metadata": {},
   "outputs": [
    {
     "name": "stdout",
     "output_type": "stream",
     "text": [
      "<selenium.webdriver.chrome.webdriver.WebDriver (session=\"21d97e0341d2a459ac49d2950d8cbf31\")>\n"
     ]
    }
   ],
   "source": [
    "# Chrome Driver Path\n",
    "chrome_driver_path = r\"C:\\Users\\Swapnil Alaspure\\Documents\\DOCUMENT FOLDER FOR WPU & KPMG\\Web Scrapping\\LMS Code File\\chromedriver.exe\"\n",
    "driver = webdriver.Chrome()\n",
    "driver.get(\"https://www.meesho.com/search?q=watch&searchType=POPULAR_SEARCHES&searchIdentifier=text_search\")\n",
    "print(driver)"
   ]
  },
  {
   "cell_type": "code",
   "execution_count": 6,
   "id": "27dd6ab5",
   "metadata": {},
   "outputs": [
    {
     "data": {
      "text/plain": [
       "'Voguish Men Analog Watches\\n₹166 onwards\\nFree Delivery\\n4.0\\n183 Reviews'"
      ]
     },
     "execution_count": 6,
     "metadata": {},
     "output_type": "execute_result"
    }
   ],
   "source": [
    "#Since we are dealing with a javascript page, we would be getting the xpath\n",
    "MasterContainer_xpath = '//*[@id=\"__next\"]/div[3]/div/div[3]/div[2]/div[2]/div/div[1]/a/div/div[2]'\n",
    "name = driver.find_element(By.XPATH, MasterContainer_xpath).text\n",
    "name"
   ]
  },
  {
   "cell_type": "code",
   "execution_count": 7,
   "id": "96138a05",
   "metadata": {},
   "outputs": [
    {
     "data": {
      "text/plain": [
       "19"
      ]
     },
     "execution_count": 7,
     "metadata": {},
     "output_type": "execute_result"
    }
   ],
   "source": [
    "# Product Name\n",
    "product_name = []\n",
    "for i in range(1,20):\n",
    "    name_xpath='//*[@id=\"__next\"]/div[3]/div/div[3]/div[2]/div[2]/div/div['+str(i)+']/a/div/div[2]/div[1]/span/p'\n",
    "    name = driver.find_element(By.XPATH,name_xpath).text\n",
    "    product_name.append(name)\n",
    "len(product_name)"
   ]
  },
  {
   "cell_type": "code",
   "execution_count": 8,
   "id": "4067a3ef",
   "metadata": {},
   "outputs": [
    {
     "data": {
      "text/plain": [
       "19"
      ]
     },
     "execution_count": 8,
     "metadata": {},
     "output_type": "execute_result"
    }
   ],
   "source": [
    "# Product Price\n",
    "product_price = []\n",
    "for i in range(1,20):\n",
    "    price_xpath= '//*[@id=\"__next\"]/div[3]/div/div[3]/div[2]/div[2]/div/div['+str(i)+']/a/div/div[2]/div[1]/span/div/h5'\n",
    "    price = driver.find_element(By.XPATH, price_xpath).text\n",
    "    product_price.append(price)\n",
    "len(product_price)"
   ]
  },
  {
   "cell_type": "code",
   "execution_count": 9,
   "id": "fdbc6a51",
   "metadata": {},
   "outputs": [
    {
     "data": {
      "text/plain": [
       "19"
      ]
     },
     "execution_count": 9,
     "metadata": {},
     "output_type": "execute_result"
    }
   ],
   "source": [
    "# Product Rating\n",
    "product_rating = []\n",
    "for i in range(1,20):\n",
    "    rating_xpath= '//*[@id=\"__next\"]/div[3]/div/div[3]/div[2]/div[2]/div/div['+str(i)+']/a/div/div[2]/div[3]/div/span[1]/span'\n",
    "    rating = driver.find_element(By.XPATH, rating_xpath).text\n",
    "    product_rating.append(rating)\n",
    "    \n",
    "len(product_rating)"
   ]
  },
  {
   "cell_type": "code",
   "execution_count": 10,
   "id": "c5902fe9",
   "metadata": {},
   "outputs": [
    {
     "data": {
      "text/plain": [
       "19"
      ]
     },
     "execution_count": 10,
     "metadata": {},
     "output_type": "execute_result"
    }
   ],
   "source": [
    "# Product Reviwes\n",
    "product_reviwes = []\n",
    "for i in range(1,20):\n",
    "    reviwes_xpath= '//*[@id=\"__next\"]/div[3]/div/div[3]/div[2]/div[2]/div/div['+str(i)+']/a/div/div[2]/div[3]/div/span[2]'\n",
    "    reviwes = driver.find_element(By.XPATH, reviwes_xpath).text\n",
    "    product_reviwes.append(reviwes)\n",
    "    \n",
    "len(product_reviwes)"
   ]
  },
  {
   "cell_type": "code",
   "execution_count": 11,
   "id": "e82958b3",
   "metadata": {},
   "outputs": [
    {
     "data": {
      "text/plain": [
       "19"
      ]
     },
     "execution_count": 11,
     "metadata": {},
     "output_type": "execute_result"
    }
   ],
   "source": [
    "# Product Delivery\n",
    "product_delivery = []\n",
    "for i in range(1,20):\n",
    "    delivery_xpath= '//*[@id=\"__next\"]/div[3]/div/div[3]/div[2]/div[2]/div/div['+str(i)+']/a/div/div[2]/div[2]'\n",
    "    delivery = driver.find_element(By.XPATH, delivery_xpath).text\n",
    "    product_delivery.append(delivery)\n",
    "    \n",
    "len(product_delivery)"
   ]
  },
  {
   "cell_type": "code",
   "execution_count": 12,
   "id": "a395011b",
   "metadata": {},
   "outputs": [
    {
     "data": {
      "text/html": [
       "<div>\n",
       "<style scoped>\n",
       "    .dataframe tbody tr th:only-of-type {\n",
       "        vertical-align: middle;\n",
       "    }\n",
       "\n",
       "    .dataframe tbody tr th {\n",
       "        vertical-align: top;\n",
       "    }\n",
       "\n",
       "    .dataframe thead th {\n",
       "        text-align: right;\n",
       "    }\n",
       "</style>\n",
       "<table border=\"1\" class=\"dataframe\">\n",
       "  <thead>\n",
       "    <tr style=\"text-align: right;\">\n",
       "      <th></th>\n",
       "      <th>Product Name</th>\n",
       "      <th>Product Price</th>\n",
       "      <th>Product Rating</th>\n",
       "      <th>Product Reviews</th>\n",
       "      <th>Product Delivery Charges</th>\n",
       "    </tr>\n",
       "  </thead>\n",
       "  <tbody>\n",
       "    <tr>\n",
       "      <th>0</th>\n",
       "      <td>Voguish Men Analog Watches</td>\n",
       "      <td>₹166 onwards</td>\n",
       "      <td>4.0</td>\n",
       "      <td>183 Reviews</td>\n",
       "      <td>Free Delivery</td>\n",
       "    </tr>\n",
       "    <tr>\n",
       "      <th>1</th>\n",
       "      <td>Versatile Men Analog Watches</td>\n",
       "      <td>₹99 onwards</td>\n",
       "      <td>4.0</td>\n",
       "      <td>237 Reviews</td>\n",
       "      <td>Delivery ₹82</td>\n",
       "    </tr>\n",
       "    <tr>\n",
       "      <th>2</th>\n",
       "      <td>Trendy Women Analog Watches</td>\n",
       "      <td>₹260 onwards</td>\n",
       "      <td>4.0</td>\n",
       "      <td>5366 Reviews</td>\n",
       "      <td>Free Delivery</td>\n",
       "    </tr>\n",
       "    <tr>\n",
       "      <th>3</th>\n",
       "      <td>Ravishing kids Sports Watches</td>\n",
       "      <td>₹75 onwards</td>\n",
       "      <td>3.6</td>\n",
       "      <td>18666 Reviews</td>\n",
       "      <td>Delivery ₹82</td>\n",
       "    </tr>\n",
       "    <tr>\n",
       "      <th>4</th>\n",
       "      <td>Stylish Women Analog Watches</td>\n",
       "      <td>₹90 onwards</td>\n",
       "      <td>4.0</td>\n",
       "      <td>8839 Reviews</td>\n",
       "      <td>Delivery ₹74</td>\n",
       "    </tr>\n",
       "    <tr>\n",
       "      <th>5</th>\n",
       "      <td>Elite Sports Watches</td>\n",
       "      <td>₹140 onwards</td>\n",
       "      <td>3.6</td>\n",
       "      <td>4359 Reviews</td>\n",
       "      <td>Delivery ₹99</td>\n",
       "    </tr>\n",
       "    <tr>\n",
       "      <th>6</th>\n",
       "      <td>Classic Analog Watches</td>\n",
       "      <td>₹169 onwards</td>\n",
       "      <td>3.8</td>\n",
       "      <td>3414 Reviews</td>\n",
       "      <td>Free Delivery</td>\n",
       "    </tr>\n",
       "    <tr>\n",
       "      <th>7</th>\n",
       "      <td>Fabulous Men Analog Watches</td>\n",
       "      <td>₹162 onwards</td>\n",
       "      <td>3.9</td>\n",
       "      <td>3265 Reviews</td>\n",
       "      <td>Free Delivery</td>\n",
       "    </tr>\n",
       "    <tr>\n",
       "      <th>8</th>\n",
       "      <td>Classy Men Analog Watches</td>\n",
       "      <td>₹88 onwards</td>\n",
       "      <td>3.9</td>\n",
       "      <td>276 Reviews</td>\n",
       "      <td>Delivery ₹80</td>\n",
       "    </tr>\n",
       "    <tr>\n",
       "      <th>9</th>\n",
       "      <td>Latest Women Analog Watches</td>\n",
       "      <td>₹160 onwards</td>\n",
       "      <td>3.9</td>\n",
       "      <td>7975 Reviews</td>\n",
       "      <td>Free Delivery</td>\n",
       "    </tr>\n",
       "    <tr>\n",
       "      <th>10</th>\n",
       "      <td>Fancy Women Analog Watches</td>\n",
       "      <td>₹204 onwards</td>\n",
       "      <td>4.1</td>\n",
       "      <td>6064 Reviews</td>\n",
       "      <td>Free Delivery</td>\n",
       "    </tr>\n",
       "    <tr>\n",
       "      <th>11</th>\n",
       "      <td>Fancy Smart Watches</td>\n",
       "      <td>₹172 onwards</td>\n",
       "      <td>3.8</td>\n",
       "      <td>5226 Reviews</td>\n",
       "      <td>Free Delivery</td>\n",
       "    </tr>\n",
       "    <tr>\n",
       "      <th>12</th>\n",
       "      <td>Fashionate Sports Watches</td>\n",
       "      <td>₹184 onwards</td>\n",
       "      <td>3.7</td>\n",
       "      <td>4057 Reviews</td>\n",
       "      <td>Free Delivery</td>\n",
       "    </tr>\n",
       "    <tr>\n",
       "      <th>13</th>\n",
       "      <td>Attractive Women Analog Watches</td>\n",
       "      <td>₹121 onwards</td>\n",
       "      <td>3.9</td>\n",
       "      <td>4175 Reviews</td>\n",
       "      <td>Delivery ₹74</td>\n",
       "    </tr>\n",
       "    <tr>\n",
       "      <th>14</th>\n",
       "      <td>Watches</td>\n",
       "      <td>₹210 onwards</td>\n",
       "      <td>3.9</td>\n",
       "      <td>2862 Reviews</td>\n",
       "      <td>Free Delivery</td>\n",
       "    </tr>\n",
       "    <tr>\n",
       "      <th>15</th>\n",
       "      <td>Versatile Men Analog Watches Smart Watches</td>\n",
       "      <td>₹156 onwards</td>\n",
       "      <td>3.5</td>\n",
       "      <td>3421 Reviews</td>\n",
       "      <td>Free Delivery</td>\n",
       "    </tr>\n",
       "    <tr>\n",
       "      <th>16</th>\n",
       "      <td>Fancy Men Analog Watches</td>\n",
       "      <td>₹248 onwards</td>\n",
       "      <td>3.9</td>\n",
       "      <td>1182 Reviews</td>\n",
       "      <td>Delivery ₹80</td>\n",
       "    </tr>\n",
       "    <tr>\n",
       "      <th>17</th>\n",
       "      <td>Latest Sports Watches</td>\n",
       "      <td>₹186 onwards</td>\n",
       "      <td>4.0</td>\n",
       "      <td>22750 Reviews</td>\n",
       "      <td>Free Delivery</td>\n",
       "    </tr>\n",
       "    <tr>\n",
       "      <th>18</th>\n",
       "      <td>Trendy Men Analog Watches</td>\n",
       "      <td>₹79 onwards</td>\n",
       "      <td>3.8</td>\n",
       "      <td>1820 Reviews</td>\n",
       "      <td>Delivery ₹80</td>\n",
       "    </tr>\n",
       "  </tbody>\n",
       "</table>\n",
       "</div>"
      ],
      "text/plain": [
       "                                  Product Name Product Price Product Rating  \\\n",
       "0                   Voguish Men Analog Watches  ₹166 onwards            4.0   \n",
       "1                 Versatile Men Analog Watches   ₹99 onwards            4.0   \n",
       "2                  Trendy Women Analog Watches  ₹260 onwards            4.0   \n",
       "3                Ravishing kids Sports Watches   ₹75 onwards            3.6   \n",
       "4                 Stylish Women Analog Watches   ₹90 onwards            4.0   \n",
       "5                         Elite Sports Watches  ₹140 onwards            3.6   \n",
       "6                       Classic Analog Watches  ₹169 onwards            3.8   \n",
       "7                  Fabulous Men Analog Watches  ₹162 onwards            3.9   \n",
       "8                    Classy Men Analog Watches   ₹88 onwards            3.9   \n",
       "9                  Latest Women Analog Watches  ₹160 onwards            3.9   \n",
       "10                  Fancy Women Analog Watches  ₹204 onwards            4.1   \n",
       "11                         Fancy Smart Watches  ₹172 onwards            3.8   \n",
       "12                   Fashionate Sports Watches  ₹184 onwards            3.7   \n",
       "13             Attractive Women Analog Watches  ₹121 onwards            3.9   \n",
       "14                                     Watches  ₹210 onwards            3.9   \n",
       "15  Versatile Men Analog Watches Smart Watches  ₹156 onwards            3.5   \n",
       "16                    Fancy Men Analog Watches  ₹248 onwards            3.9   \n",
       "17                       Latest Sports Watches  ₹186 onwards            4.0   \n",
       "18                   Trendy Men Analog Watches   ₹79 onwards            3.8   \n",
       "\n",
       "   Product Reviews Product Delivery Charges  \n",
       "0      183 Reviews            Free Delivery  \n",
       "1      237 Reviews             Delivery ₹82  \n",
       "2     5366 Reviews            Free Delivery  \n",
       "3    18666 Reviews             Delivery ₹82  \n",
       "4     8839 Reviews             Delivery ₹74  \n",
       "5     4359 Reviews             Delivery ₹99  \n",
       "6     3414 Reviews            Free Delivery  \n",
       "7     3265 Reviews            Free Delivery  \n",
       "8      276 Reviews             Delivery ₹80  \n",
       "9     7975 Reviews            Free Delivery  \n",
       "10    6064 Reviews            Free Delivery  \n",
       "11    5226 Reviews            Free Delivery  \n",
       "12    4057 Reviews            Free Delivery  \n",
       "13    4175 Reviews             Delivery ₹74  \n",
       "14    2862 Reviews            Free Delivery  \n",
       "15    3421 Reviews            Free Delivery  \n",
       "16    1182 Reviews             Delivery ₹80  \n",
       "17   22750 Reviews            Free Delivery  \n",
       "18    1820 Reviews             Delivery ₹80  "
      ]
     },
     "execution_count": 12,
     "metadata": {},
     "output_type": "execute_result"
    }
   ],
   "source": [
    "# Converting Into Data Frame\n",
    "watch_df = pd.DataFrame({'Product Name':product_name,\n",
    "                         \"Product Price\":product_price,\n",
    "                         \"Product Rating\":product_rating,\n",
    "                         \"Product Reviews\":product_reviwes,\n",
    "                         \"Product Delivery Charges\":product_delivery})\n",
    "\n",
    "# Display Data Frame\n",
    "watch_df"
   ]
  },
  {
   "cell_type": "code",
   "execution_count": 13,
   "id": "8e4d8ec6",
   "metadata": {},
   "outputs": [
    {
     "data": {
      "text/html": [
       "<div>\n",
       "<style scoped>\n",
       "    .dataframe tbody tr th:only-of-type {\n",
       "        vertical-align: middle;\n",
       "    }\n",
       "\n",
       "    .dataframe tbody tr th {\n",
       "        vertical-align: top;\n",
       "    }\n",
       "\n",
       "    .dataframe thead th {\n",
       "        text-align: right;\n",
       "    }\n",
       "</style>\n",
       "<table border=\"1\" class=\"dataframe\">\n",
       "  <thead>\n",
       "    <tr style=\"text-align: right;\">\n",
       "      <th></th>\n",
       "      <th>Product Name</th>\n",
       "      <th>Product Price</th>\n",
       "      <th>Product Rating</th>\n",
       "      <th>Product Reviews</th>\n",
       "      <th>Product Delivery Charges</th>\n",
       "    </tr>\n",
       "  </thead>\n",
       "  <tbody>\n",
       "    <tr>\n",
       "      <th>0</th>\n",
       "      <td>Voguish Men Analog Watches</td>\n",
       "      <td>₹166</td>\n",
       "      <td>4.0</td>\n",
       "      <td>183</td>\n",
       "      <td>Free</td>\n",
       "    </tr>\n",
       "    <tr>\n",
       "      <th>1</th>\n",
       "      <td>Versatile Men Analog Watches</td>\n",
       "      <td>₹99</td>\n",
       "      <td>4.0</td>\n",
       "      <td>237</td>\n",
       "      <td>₹82</td>\n",
       "    </tr>\n",
       "    <tr>\n",
       "      <th>2</th>\n",
       "      <td>Trendy Women Analog Watches</td>\n",
       "      <td>₹260</td>\n",
       "      <td>4.0</td>\n",
       "      <td>5366</td>\n",
       "      <td>Free</td>\n",
       "    </tr>\n",
       "    <tr>\n",
       "      <th>3</th>\n",
       "      <td>Ravishing kids Sports Watches</td>\n",
       "      <td>₹75</td>\n",
       "      <td>3.6</td>\n",
       "      <td>18666</td>\n",
       "      <td>₹82</td>\n",
       "    </tr>\n",
       "    <tr>\n",
       "      <th>4</th>\n",
       "      <td>Stylish Women Analog Watches</td>\n",
       "      <td>₹90</td>\n",
       "      <td>4.0</td>\n",
       "      <td>8839</td>\n",
       "      <td>₹74</td>\n",
       "    </tr>\n",
       "    <tr>\n",
       "      <th>5</th>\n",
       "      <td>Elite Sports Watches</td>\n",
       "      <td>₹140</td>\n",
       "      <td>3.6</td>\n",
       "      <td>4359</td>\n",
       "      <td>₹99</td>\n",
       "    </tr>\n",
       "    <tr>\n",
       "      <th>6</th>\n",
       "      <td>Classic Analog Watches</td>\n",
       "      <td>₹169</td>\n",
       "      <td>3.8</td>\n",
       "      <td>3414</td>\n",
       "      <td>Free</td>\n",
       "    </tr>\n",
       "    <tr>\n",
       "      <th>7</th>\n",
       "      <td>Fabulous Men Analog Watches</td>\n",
       "      <td>₹162</td>\n",
       "      <td>3.9</td>\n",
       "      <td>3265</td>\n",
       "      <td>Free</td>\n",
       "    </tr>\n",
       "    <tr>\n",
       "      <th>8</th>\n",
       "      <td>Classy Men Analog Watches</td>\n",
       "      <td>₹88</td>\n",
       "      <td>3.9</td>\n",
       "      <td>276</td>\n",
       "      <td>₹80</td>\n",
       "    </tr>\n",
       "    <tr>\n",
       "      <th>9</th>\n",
       "      <td>Latest Women Analog Watches</td>\n",
       "      <td>₹160</td>\n",
       "      <td>3.9</td>\n",
       "      <td>7975</td>\n",
       "      <td>Free</td>\n",
       "    </tr>\n",
       "    <tr>\n",
       "      <th>10</th>\n",
       "      <td>Fancy Women Analog Watches</td>\n",
       "      <td>₹204</td>\n",
       "      <td>4.1</td>\n",
       "      <td>6064</td>\n",
       "      <td>Free</td>\n",
       "    </tr>\n",
       "    <tr>\n",
       "      <th>11</th>\n",
       "      <td>Fancy Smart Watches</td>\n",
       "      <td>₹172</td>\n",
       "      <td>3.8</td>\n",
       "      <td>5226</td>\n",
       "      <td>Free</td>\n",
       "    </tr>\n",
       "    <tr>\n",
       "      <th>12</th>\n",
       "      <td>Fashionate Sports Watches</td>\n",
       "      <td>₹184</td>\n",
       "      <td>3.7</td>\n",
       "      <td>4057</td>\n",
       "      <td>Free</td>\n",
       "    </tr>\n",
       "    <tr>\n",
       "      <th>13</th>\n",
       "      <td>Attractive Women Analog Watches</td>\n",
       "      <td>₹121</td>\n",
       "      <td>3.9</td>\n",
       "      <td>4175</td>\n",
       "      <td>₹74</td>\n",
       "    </tr>\n",
       "    <tr>\n",
       "      <th>14</th>\n",
       "      <td>Watches</td>\n",
       "      <td>₹210</td>\n",
       "      <td>3.9</td>\n",
       "      <td>2862</td>\n",
       "      <td>Free</td>\n",
       "    </tr>\n",
       "    <tr>\n",
       "      <th>15</th>\n",
       "      <td>Versatile Men Analog Watches Smart Watches</td>\n",
       "      <td>₹156</td>\n",
       "      <td>3.5</td>\n",
       "      <td>3421</td>\n",
       "      <td>Free</td>\n",
       "    </tr>\n",
       "    <tr>\n",
       "      <th>16</th>\n",
       "      <td>Fancy Men Analog Watches</td>\n",
       "      <td>₹248</td>\n",
       "      <td>3.9</td>\n",
       "      <td>1182</td>\n",
       "      <td>₹80</td>\n",
       "    </tr>\n",
       "    <tr>\n",
       "      <th>17</th>\n",
       "      <td>Latest Sports Watches</td>\n",
       "      <td>₹186</td>\n",
       "      <td>4.0</td>\n",
       "      <td>22750</td>\n",
       "      <td>Free</td>\n",
       "    </tr>\n",
       "    <tr>\n",
       "      <th>18</th>\n",
       "      <td>Trendy Men Analog Watches</td>\n",
       "      <td>₹79</td>\n",
       "      <td>3.8</td>\n",
       "      <td>1820</td>\n",
       "      <td>₹80</td>\n",
       "    </tr>\n",
       "  </tbody>\n",
       "</table>\n",
       "</div>"
      ],
      "text/plain": [
       "                                  Product Name Product Price Product Rating  \\\n",
       "0                   Voguish Men Analog Watches          ₹166            4.0   \n",
       "1                 Versatile Men Analog Watches           ₹99            4.0   \n",
       "2                  Trendy Women Analog Watches          ₹260            4.0   \n",
       "3                Ravishing kids Sports Watches           ₹75            3.6   \n",
       "4                 Stylish Women Analog Watches           ₹90            4.0   \n",
       "5                         Elite Sports Watches          ₹140            3.6   \n",
       "6                       Classic Analog Watches          ₹169            3.8   \n",
       "7                  Fabulous Men Analog Watches          ₹162            3.9   \n",
       "8                    Classy Men Analog Watches           ₹88            3.9   \n",
       "9                  Latest Women Analog Watches          ₹160            3.9   \n",
       "10                  Fancy Women Analog Watches          ₹204            4.1   \n",
       "11                         Fancy Smart Watches          ₹172            3.8   \n",
       "12                   Fashionate Sports Watches          ₹184            3.7   \n",
       "13             Attractive Women Analog Watches          ₹121            3.9   \n",
       "14                                     Watches          ₹210            3.9   \n",
       "15  Versatile Men Analog Watches Smart Watches          ₹156            3.5   \n",
       "16                    Fancy Men Analog Watches          ₹248            3.9   \n",
       "17                       Latest Sports Watches          ₹186            4.0   \n",
       "18                   Trendy Men Analog Watches           ₹79            3.8   \n",
       "\n",
       "   Product Reviews Product Delivery Charges  \n",
       "0              183                     Free  \n",
       "1              237                      ₹82  \n",
       "2             5366                     Free  \n",
       "3            18666                      ₹82  \n",
       "4             8839                      ₹74  \n",
       "5             4359                      ₹99  \n",
       "6             3414                     Free  \n",
       "7             3265                     Free  \n",
       "8              276                      ₹80  \n",
       "9             7975                     Free  \n",
       "10            6064                     Free  \n",
       "11            5226                     Free  \n",
       "12            4057                     Free  \n",
       "13            4175                      ₹74  \n",
       "14            2862                     Free  \n",
       "15            3421                     Free  \n",
       "16            1182                      ₹80  \n",
       "17           22750                     Free  \n",
       "18            1820                      ₹80  "
      ]
     },
     "execution_count": 13,
     "metadata": {},
     "output_type": "execute_result"
    }
   ],
   "source": [
    "# Remove the word 'onwards' from the 'Product Price' column\n",
    "watch_df['Product Price'] = watch_df['Product Price'].str.replace(' onwards', '', regex=False)\n",
    "\n",
    "# Remove the word 'Reviews' from the 'Product Reviews' column\n",
    "watch_df['Product Reviews'] = watch_df['Product Reviews'].str.replace(' Reviews', '', regex=False)\n",
    "\n",
    "# Remove the word 'Delivery' from the 'Product Delivery Charges' column\n",
    "\n",
    " # Code for word at the end \n",
    "watch_df['Product Delivery Charges'] = watch_df['Product Delivery Charges'].str.replace(' Delivery', '', regex=False)\n",
    " # Code for word at the start \n",
    "watch_df['Product Delivery Charges'] = watch_df['Product Delivery Charges'].str.replace('Delivery ', '', regex=False)\n",
    "\n",
    "# Displaying the updated DataFrame\n",
    "watch_df"
   ]
  },
  {
   "cell_type": "code",
   "execution_count": 14,
   "id": "11e85738",
   "metadata": {},
   "outputs": [],
   "source": [
    "# For closing the opened driver\n",
    "driver.close()"
   ]
  },
  {
   "cell_type": "code",
   "execution_count": 15,
   "id": "df09e88c",
   "metadata": {},
   "outputs": [],
   "source": [
    "# saving the dataframe\n",
    "watch_df.to_csv('ScrapData.csv')"
   ]
  },
  {
   "cell_type": "markdown",
   "id": "4021819b",
   "metadata": {},
   "source": [
    "# THE END...!"
   ]
  }
 ],
 "metadata": {
  "kernelspec": {
   "display_name": "Python 3 (ipykernel)",
   "language": "python",
   "name": "python3"
  },
  "language_info": {
   "codemirror_mode": {
    "name": "ipython",
    "version": 3
   },
   "file_extension": ".py",
   "mimetype": "text/x-python",
   "name": "python",
   "nbconvert_exporter": "python",
   "pygments_lexer": "ipython3",
   "version": "3.11.4"
  }
 },
 "nbformat": 4,
 "nbformat_minor": 5
}
