{
 "cells": [
  {
   "cell_type": "code",
   "execution_count": 1,
   "id": "55b89f6a",
   "metadata": {},
   "outputs": [],
   "source": [
    "# Importing libraries\n",
    "from bs4 import BeautifulSoup\n",
    "import requests\n",
    "from requests import get\n",
    "import pandas as pd"
   ]
  },
  {
   "cell_type": "markdown",
   "id": "cabc6454",
   "metadata": {},
   "source": [
    "# Scraping Data From Single Pages..!"
   ]
  },
  {
   "cell_type": "code",
   "execution_count": 2,
   "id": "a0446205",
   "metadata": {
    "scrolled": true
   },
   "outputs": [],
   "source": [
    "# Step 1 : Create URL Object\n",
    "url = 'https://books.toscrape.com/catalogue/page-1.html'\n",
    "\n",
    "# Step 2 : To request the server to connect to this webpage\n",
    "page = requests.get(url)\n",
    "\n",
    "#BeautifulSoup is a popular Python library used for parsing and extracting data from HTML and XML documents.\n",
    "soup = BeautifulSoup(page.text,'html.parser')"
   ]
  },
  {
   "cell_type": "code",
   "execution_count": 3,
   "id": "391bf23c",
   "metadata": {},
   "outputs": [],
   "source": [
    "# Finding orders list\n",
    "ol = soup.find(\"ol\")\n",
    "# Then we find product_pod which contains info about product\n",
    "articales = ol.find_all(\"article\",class_ = \"product_pod\")"
   ]
  },
  {
   "cell_type": "code",
   "execution_count": 5,
   "id": "f7325230",
   "metadata": {
    "scrolled": true
   },
   "outputs": [],
   "source": [
    "# Now Scraping Data from single page\n",
    "books = []\n",
    "# Using for loop extracting the info\n",
    "for articale in articales:\n",
    "    image = articale.find('img')\n",
    "    title = image.attrs[\"alt\"]\n",
    "    star = articale.find(\"p\")\n",
    "    star = star[\"class\"][1]\n",
    "    price = articale.find(\"p\",class_ = \"price_color\").text\n",
    "    price = float(price[2:])\n",
    "    books.append([title,price,star])"
   ]
  },
  {
   "cell_type": "code",
   "execution_count": 24,
   "id": "f47d981a",
   "metadata": {},
   "outputs": [
    {
     "data": {
      "text/html": [
       "<div>\n",
       "<style scoped>\n",
       "    .dataframe tbody tr th:only-of-type {\n",
       "        vertical-align: middle;\n",
       "    }\n",
       "\n",
       "    .dataframe tbody tr th {\n",
       "        vertical-align: top;\n",
       "    }\n",
       "\n",
       "    .dataframe thead th {\n",
       "        text-align: right;\n",
       "    }\n",
       "</style>\n",
       "<table border=\"1\" class=\"dataframe\">\n",
       "  <thead>\n",
       "    <tr style=\"text-align: right;\">\n",
       "      <th></th>\n",
       "      <th>0</th>\n",
       "      <th>1</th>\n",
       "      <th>2</th>\n",
       "    </tr>\n",
       "  </thead>\n",
       "  <tbody>\n",
       "    <tr>\n",
       "      <th>0</th>\n",
       "      <td>Immunity: How Elie Metchnikoff Changed the Cou...</td>\n",
       "      <td>57.36</td>\n",
       "      <td>Five</td>\n",
       "    </tr>\n",
       "    <tr>\n",
       "      <th>1</th>\n",
       "      <td>I Hate Fairyland, Vol. 1: Madly Ever After (I ...</td>\n",
       "      <td>29.17</td>\n",
       "      <td>Two</td>\n",
       "    </tr>\n",
       "    <tr>\n",
       "      <th>2</th>\n",
       "      <td>I am a Hero Omnibus Volume 1</td>\n",
       "      <td>54.63</td>\n",
       "      <td>Three</td>\n",
       "    </tr>\n",
       "    <tr>\n",
       "      <th>3</th>\n",
       "      <td>How to Be Miserable: 40 Strategies You Already...</td>\n",
       "      <td>46.03</td>\n",
       "      <td>One</td>\n",
       "    </tr>\n",
       "    <tr>\n",
       "      <th>4</th>\n",
       "      <td>Her Backup Boyfriend (The Sorensen Family #1)</td>\n",
       "      <td>33.97</td>\n",
       "      <td>One</td>\n",
       "    </tr>\n",
       "  </tbody>\n",
       "</table>\n",
       "</div>"
      ],
      "text/plain": [
       "                                                   0      1      2\n",
       "0  Immunity: How Elie Metchnikoff Changed the Cou...  57.36   Five\n",
       "1  I Hate Fairyland, Vol. 1: Madly Ever After (I ...  29.17    Two\n",
       "2                       I am a Hero Omnibus Volume 1  54.63  Three\n",
       "3  How to Be Miserable: 40 Strategies You Already...  46.03    One\n",
       "4      Her Backup Boyfriend (The Sorensen Family #1)  33.97    One"
      ]
     },
     "execution_count": 24,
     "metadata": {},
     "output_type": "execute_result"
    }
   ],
   "source": [
    "pd.DataFrame(books).head()"
   ]
  },
  {
   "cell_type": "markdown",
   "id": "d0ba7af8",
   "metadata": {},
   "source": [
    "# Now we, Scrapping data from multiples pages...!"
   ]
  },
  {
   "cell_type": "code",
   "execution_count": 18,
   "id": "4e6e04f5",
   "metadata": {},
   "outputs": [],
   "source": [
    "# Creating empty list to append scraped data\n",
    "total_books = []\n",
    "\n",
    "# Defining range for pages\n",
    "for i in range(1,51):\n",
    "    \n",
    "    # page url\n",
    "    \n",
    "    # Why We Use f before \"url\"\n",
    "    # In Python, the f before a string is used to create an f-string, \n",
    "    # which stands for \"formatted string.\" An f-string allows you to embed \n",
    "    # expressions inside curly braces {} within the string, and the expressions \n",
    "    # inside the curly braces will be evaluated and replaced with their values.\n",
    "    \n",
    "    url = f'https://books.toscrape.com/catalogue/page-{i}.html'\n",
    "    page = requests.get(url)\n",
    "    soup = BeautifulSoup(page.text,'html.parser')\n",
    "    \n",
    "    # Finding orders list of page\n",
    "    ol = soup.find(\"ol\")\n",
    "    \n",
    "    # Then we find product_pod which contains info about product\n",
    "    articales = ol.find_all(\"article\",class_ = \"product_pod\")\n",
    "    \n",
    "    # Using for loop extracting the info\n",
    "    for articale in articales:\n",
    "        image = articale.find('img')\n",
    "        title = image.attrs[\"alt\"]\n",
    "        star = articale.find(\"p\")\n",
    "        star = star[\"class\"][1]\n",
    "        price = articale.find(\"p\",class_ = \"price_color\").text\n",
    "        price = float(price[2:])\n",
    "        \n",
    "        # Now we append all extracted info into empy list\n",
    "        total_books.append([title,price,star])"
   ]
  },
  {
   "cell_type": "code",
   "execution_count": 21,
   "id": "f7138b1a",
   "metadata": {},
   "outputs": [
    {
     "data": {
      "text/html": [
       "<div>\n",
       "<style scoped>\n",
       "    .dataframe tbody tr th:only-of-type {\n",
       "        vertical-align: middle;\n",
       "    }\n",
       "\n",
       "    .dataframe tbody tr th {\n",
       "        vertical-align: top;\n",
       "    }\n",
       "\n",
       "    .dataframe thead th {\n",
       "        text-align: right;\n",
       "    }\n",
       "</style>\n",
       "<table border=\"1\" class=\"dataframe\">\n",
       "  <thead>\n",
       "    <tr style=\"text-align: right;\">\n",
       "      <th></th>\n",
       "      <th>Title</th>\n",
       "      <th>Price (Pound Sterling (£))</th>\n",
       "      <th>Star Rating</th>\n",
       "    </tr>\n",
       "  </thead>\n",
       "  <tbody>\n",
       "    <tr>\n",
       "      <th>0</th>\n",
       "      <td>A Light in the Attic</td>\n",
       "      <td>51.77</td>\n",
       "      <td>Three</td>\n",
       "    </tr>\n",
       "    <tr>\n",
       "      <th>1</th>\n",
       "      <td>Tipping the Velvet</td>\n",
       "      <td>53.74</td>\n",
       "      <td>One</td>\n",
       "    </tr>\n",
       "    <tr>\n",
       "      <th>2</th>\n",
       "      <td>Soumission</td>\n",
       "      <td>50.10</td>\n",
       "      <td>One</td>\n",
       "    </tr>\n",
       "    <tr>\n",
       "      <th>3</th>\n",
       "      <td>Sharp Objects</td>\n",
       "      <td>47.82</td>\n",
       "      <td>Four</td>\n",
       "    </tr>\n",
       "    <tr>\n",
       "      <th>4</th>\n",
       "      <td>Sapiens: A Brief History of Humankind</td>\n",
       "      <td>54.23</td>\n",
       "      <td>Five</td>\n",
       "    </tr>\n",
       "  </tbody>\n",
       "</table>\n",
       "</div>"
      ],
      "text/plain": [
       "                                   Title  Price (Pound Sterling (£))  \\\n",
       "0                   A Light in the Attic                       51.77   \n",
       "1                     Tipping the Velvet                       53.74   \n",
       "2                             Soumission                       50.10   \n",
       "3                          Sharp Objects                       47.82   \n",
       "4  Sapiens: A Brief History of Humankind                       54.23   \n",
       "\n",
       "  Star Rating  \n",
       "0       Three  \n",
       "1         One  \n",
       "2         One  \n",
       "3        Four  \n",
       "4        Five  "
      ]
     },
     "execution_count": 21,
     "metadata": {},
     "output_type": "execute_result"
    }
   ],
   "source": [
    "# Now we convert our list into data frame and defining columns name.\n",
    "Total_Books = pd.DataFrame(total_books,columns = [\"Title\",\"Price (Pound Sterling (£))\",\"Star Rating\"])\n",
    "Total_Books.head()"
   ]
  },
  {
   "cell_type": "code",
   "execution_count": 22,
   "id": "c93ddcdc",
   "metadata": {},
   "outputs": [
    {
     "data": {
      "text/plain": [
       "(1000, 3)"
      ]
     },
     "execution_count": 22,
     "metadata": {},
     "output_type": "execute_result"
    }
   ],
   "source": [
    "# Shape of our data frame\n",
    "Total_Books.shape"
   ]
  },
  {
   "cell_type": "code",
   "execution_count": 23,
   "id": "bdae70b9",
   "metadata": {},
   "outputs": [],
   "source": [
    "# Converting Data Frame Into \"CSV\" File\n",
    "Total_Books.to_csv(\"Total_Books.csv\")"
   ]
  },
  {
   "cell_type": "markdown",
   "id": "90a097a6",
   "metadata": {},
   "source": [
    "### The_End...!"
   ]
  }
 ],
 "metadata": {
  "kernelspec": {
   "display_name": "Python 3 (ipykernel)",
   "language": "python",
   "name": "python3"
  },
  "language_info": {
   "codemirror_mode": {
    "name": "ipython",
    "version": 3
   },
   "file_extension": ".py",
   "mimetype": "text/x-python",
   "name": "python",
   "nbconvert_exporter": "python",
   "pygments_lexer": "ipython3",
   "version": "3.11.3"
  }
 },
 "nbformat": 4,
 "nbformat_minor": 5
}
