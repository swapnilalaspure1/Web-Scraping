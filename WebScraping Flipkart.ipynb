{
 "cells": [
  {
   "cell_type": "code",
   "execution_count": 1,
   "id": "4b3cb297",
   "metadata": {},
   "outputs": [],
   "source": [
    "# Importing Library\n",
    "import requests\n",
    "from bs4 import BeautifulSoup\n",
    "import pandas as pd"
   ]
  },
  {
   "cell_type": "code",
   "execution_count": 2,
   "id": "dbb4ec14",
   "metadata": {},
   "outputs": [],
   "source": [
    "# Define the base URL and headers\n",
    "base_url = \"https://www.flipkart.com/search?q=books\"\n",
    "headers = {\n",
    "    \"User-Agent\": \"Mozilla/5.0 (Windows NT 10.0; Win64; x64) AppleWebKit/537.36 (KHTML, like Gecko) Chrome/58.0.3029.110 Safari/537.3\"\n",
    "}"
   ]
  },
  {
   "cell_type": "code",
   "execution_count": 3,
   "id": "71a94c40",
   "metadata": {},
   "outputs": [
    {
     "data": {
      "text/plain": [
       "<Response [200]>"
      ]
     },
     "execution_count": 3,
     "metadata": {},
     "output_type": "execute_result"
    }
   ],
   "source": [
    "# Send a GET request to the base URL\n",
    "webpage = requests.get(base_url, headers)\n",
    "\n",
    "# Check the response of the GET request\n",
    "webpage"
   ]
  },
  {
   "cell_type": "code",
   "execution_count": 4,
   "id": "38ee2fe4",
   "metadata": {
    "scrolled": true
   },
   "outputs": [],
   "source": [
    "# Create a BeautifulSoup object to parse the HTML content\n",
    "soup = BeautifulSoup(webpage.text, \"html.parser\")\n",
    "\n",
    "# Find all product containers with the specified class\n",
    "product_containers = soup.find_all(\"div\", class_=\"_4ddWXP\")"
   ]
  },
  {
   "cell_type": "code",
   "execution_count": 5,
   "id": "501f9185",
   "metadata": {},
   "outputs": [],
   "source": [
    "# Empty Lists to store product information\n",
    "prod_name = []\n",
    "prod_price = []\n",
    "prod_rating = []\n",
    "prod_reviwe = []"
   ]
  },
  {
   "cell_type": "code",
   "execution_count": 6,
   "id": "3e656852",
   "metadata": {},
   "outputs": [],
   "source": [
    "# Loop through multiple pages, adjust the range as per the actual number of pages available\n",
    "for i in range(1,200):\n",
    "\n",
    "    # Construct the URL for the current page\n",
    "    page_url = f'{base_url}&page={i}'\n",
    "    \n",
    "    # Send a GET request to the current page URL\n",
    "    webpage = requests.get(page_url, headers)\n",
    "    \n",
    "    # Create a BeautifulSoup object for the current page\n",
    "    soup = BeautifulSoup(webpage.text, \"html.parser\")\n",
    "    \n",
    "    # Find all product containers on the current page\n",
    "    product_containers = soup.find_all(\"div\", class_=\"_4ddWXP\")\n",
    "    \n",
    "    # If there are no product containers, exit the loop\n",
    "    if not product_containers:\n",
    "        break\n",
    "    \n",
    "    # Loop through each product container on the current page\n",
    "    for i in product_containers:\n",
    "        \n",
    "        # Find and extract the product name\n",
    "        name = i.find('a', {'class': 's1Q9rs'}).text\n",
    "        prod_name.append(name)\n",
    "\n",
    "        # Find and extract the product price\n",
    "        price = i.find('div', {'class': '_30jeq3'}).text\n",
    "        prod_price.append(price)\n",
    "\n",
    "        # Find and extract the product rating\n",
    "        rating = i.find('div', {'class': '_3LWZlK'})\n",
    "        \n",
    "        if rating and rating.text:\n",
    "                rating = rating.text.strip()\n",
    "        else:\n",
    "                rating = \"N/A\"\n",
    "                \n",
    "        prod_rating.append(rating)\n",
    "\n",
    "        # Find and extract the product review count\n",
    "        review = i.find('span', {'class': '_2_R_DZ'})\n",
    "        \n",
    "        if review and review.text:\n",
    "                review = review.text.strip().replace(\"(\", \"\").replace(\")\", \"\")\n",
    "        else:\n",
    "                review = \"N/A\"\n",
    "        prod_reviwe.append(review)"
   ]
  },
  {
   "cell_type": "code",
   "execution_count": 7,
   "id": "9b82c6fd",
   "metadata": {},
   "outputs": [
    {
     "data": {
      "text/plain": [
       "(1000, 1000, 1000, 1000)"
      ]
     },
     "execution_count": 7,
     "metadata": {},
     "output_type": "execute_result"
    }
   ],
   "source": [
    "len(prod_name),len(prod_price),len(prod_rating),len(prod_reviwe)"
   ]
  },
  {
   "cell_type": "code",
   "execution_count": 8,
   "id": "391dc7cb",
   "metadata": {},
   "outputs": [
    {
     "data": {
      "text/html": [
       "<div>\n",
       "<style scoped>\n",
       "    .dataframe tbody tr th:only-of-type {\n",
       "        vertical-align: middle;\n",
       "    }\n",
       "\n",
       "    .dataframe tbody tr th {\n",
       "        vertical-align: top;\n",
       "    }\n",
       "\n",
       "    .dataframe thead th {\n",
       "        text-align: right;\n",
       "    }\n",
       "</style>\n",
       "<table border=\"1\" class=\"dataframe\">\n",
       "  <thead>\n",
       "    <tr style=\"text-align: right;\">\n",
       "      <th></th>\n",
       "      <th>Product Name</th>\n",
       "      <th>Product Price</th>\n",
       "      <th>Product Rating</th>\n",
       "      <th>Product Reviews</th>\n",
       "    </tr>\n",
       "  </thead>\n",
       "  <tbody>\n",
       "    <tr>\n",
       "      <th>0</th>\n",
       "      <td>SSC English 7600 TCS MCQ Chapter Wise With Det...</td>\n",
       "      <td>₹499</td>\n",
       "      <td>4.6</td>\n",
       "      <td>2,038</td>\n",
       "    </tr>\n",
       "    <tr>\n",
       "      <th>1</th>\n",
       "      <td>Netzwerk Neu B1 Kursbuch +Ubungsbuch + Glossar...</td>\n",
       "      <td>₹1,240</td>\n",
       "      <td>4.6</td>\n",
       "      <td>14</td>\n",
       "    </tr>\n",
       "    <tr>\n",
       "      <th>2</th>\n",
       "      <td>West Bengal Food SI Book (Bengali Medium) Prin...</td>\n",
       "      <td>₹280</td>\n",
       "      <td>4.1</td>\n",
       "      <td>655</td>\n",
       "    </tr>\n",
       "    <tr>\n",
       "      <th>3</th>\n",
       "      <td>SSC Reasoning 7200 TCS MCQ Chapter Wise 4th Ed...</td>\n",
       "      <td>₹499</td>\n",
       "      <td>4.5</td>\n",
       "      <td>2,155</td>\n",
       "    </tr>\n",
       "    <tr>\n",
       "      <th>4</th>\n",
       "      <td>General Practice Guide 3rd Edition</td>\n",
       "      <td>₹499</td>\n",
       "      <td>4.3</td>\n",
       "      <td>1,136</td>\n",
       "    </tr>\n",
       "    <tr>\n",
       "      <th>...</th>\n",
       "      <td>...</td>\n",
       "      <td>...</td>\n",
       "      <td>...</td>\n",
       "      <td>...</td>\n",
       "    </tr>\n",
       "    <tr>\n",
       "      <th>995</th>\n",
       "      <td>For Beginners Understanding: Trading Chart Pat...</td>\n",
       "      <td>₹189</td>\n",
       "      <td>4.1</td>\n",
       "      <td>1,732</td>\n",
       "    </tr>\n",
       "    <tr>\n",
       "      <th>996</th>\n",
       "      <td>Atulneeya Samanya Hindi For SSC GD, IBPS RRB, ...</td>\n",
       "      <td>₹199</td>\n",
       "      <td>4.2</td>\n",
       "      <td>287</td>\n",
       "    </tr>\n",
       "    <tr>\n",
       "      <th>997</th>\n",
       "      <td>UGC-NET Paper2 Bhugol(Geography) Study Materia...</td>\n",
       "      <td>₹1,699</td>\n",
       "      <td>4</td>\n",
       "      <td>10</td>\n",
       "    </tr>\n",
       "    <tr>\n",
       "      <th>998</th>\n",
       "      <td>WBPSC Food SI Crack Practice Book 2023</td>\n",
       "      <td>₹315</td>\n",
       "      <td>3.6</td>\n",
       "      <td>32</td>\n",
       "    </tr>\n",
       "    <tr>\n",
       "      <th>999</th>\n",
       "      <td>Rich Dad</td>\n",
       "      <td>₹159</td>\n",
       "      <td>3.4</td>\n",
       "      <td>9</td>\n",
       "    </tr>\n",
       "  </tbody>\n",
       "</table>\n",
       "<p>1000 rows × 4 columns</p>\n",
       "</div>"
      ],
      "text/plain": [
       "                                          Product Name Product Price  \\\n",
       "0    SSC English 7600 TCS MCQ Chapter Wise With Det...          ₹499   \n",
       "1    Netzwerk Neu B1 Kursbuch +Ubungsbuch + Glossar...        ₹1,240   \n",
       "2    West Bengal Food SI Book (Bengali Medium) Prin...          ₹280   \n",
       "3    SSC Reasoning 7200 TCS MCQ Chapter Wise 4th Ed...          ₹499   \n",
       "4                   General Practice Guide 3rd Edition          ₹499   \n",
       "..                                                 ...           ...   \n",
       "995  For Beginners Understanding: Trading Chart Pat...          ₹189   \n",
       "996  Atulneeya Samanya Hindi For SSC GD, IBPS RRB, ...          ₹199   \n",
       "997  UGC-NET Paper2 Bhugol(Geography) Study Materia...        ₹1,699   \n",
       "998             WBPSC Food SI Crack Practice Book 2023          ₹315   \n",
       "999                                           Rich Dad          ₹159   \n",
       "\n",
       "    Product Rating Product Reviews  \n",
       "0              4.6           2,038  \n",
       "1              4.6              14  \n",
       "2              4.1             655  \n",
       "3              4.5           2,155  \n",
       "4              4.3           1,136  \n",
       "..             ...             ...  \n",
       "995            4.1           1,732  \n",
       "996            4.2             287  \n",
       "997              4              10  \n",
       "998            3.6              32  \n",
       "999            3.4               9  \n",
       "\n",
       "[1000 rows x 4 columns]"
      ]
     },
     "execution_count": 8,
     "metadata": {},
     "output_type": "execute_result"
    }
   ],
   "source": [
    "# Create a DataFrame to store the product information\n",
    "df_book = pd.DataFrame({\n",
    "    \"Product Name\": prod_name,\n",
    "    \"Product Price\": prod_price,\n",
    "    \"Product Rating\": prod_rating,\n",
    "    \"Product Reviews\": prod_reviwe\n",
    "})\n",
    "\n",
    "# Display the DataFrame\n",
    "df_book"
   ]
  },
  {
   "cell_type": "code",
   "execution_count": 9,
   "id": "fe4a96fc",
   "metadata": {},
   "outputs": [
    {
     "name": "stdout",
     "output_type": "stream",
     "text": [
      "Data scraped and saved as flipkart_books.csv\n"
     ]
    }
   ],
   "source": [
    "# Save data as a CSV file\n",
    "df_book.to_csv(\"flipkart_books.csv\", \n",
    "               index=False)\n",
    "\n",
    "print(\"Data scraped and saved as flipkart_books.csv\")"
   ]
  },
  {
   "cell_type": "markdown",
   "id": "2c43ecd9",
   "metadata": {},
   "source": [
    "# THE END..!"
   ]
  }
 ],
 "metadata": {
  "kernelspec": {
   "display_name": "Python 3 (ipykernel)",
   "language": "python",
   "name": "python3"
  },
  "language_info": {
   "codemirror_mode": {
    "name": "ipython",
    "version": 3
   },
   "file_extension": ".py",
   "mimetype": "text/x-python",
   "name": "python",
   "nbconvert_exporter": "python",
   "pygments_lexer": "ipython3",
   "version": "3.11.4"
  }
 },
 "nbformat": 4,
 "nbformat_minor": 5
}
